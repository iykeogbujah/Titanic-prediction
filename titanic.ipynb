{
 "cells": [
  {
   "cell_type": "code",
   "execution_count": 1,
   "id": "df1d6881-29de-47ad-bfa9-b354029c7e93",
   "metadata": {},
   "outputs": [
    {
     "name": "stdout",
     "output_type": "stream",
     "text": [
      "Requirement already satisfied: xgboost in /opt/anaconda3/lib/python3.11/site-packages (2.0.3)\n",
      "Requirement already satisfied: numpy in /opt/anaconda3/lib/python3.11/site-packages (from xgboost) (1.26.4)\n",
      "Requirement already satisfied: scipy in /opt/anaconda3/lib/python3.11/site-packages (from xgboost) (1.11.4)\n"
     ]
    }
   ],
   "source": [
    "!pip install xgboost"
   ]
  },
  {
   "cell_type": "code",
   "execution_count": 2,
   "id": "225c0fa7-5de2-43ca-a325-183a137e0537",
   "metadata": {},
   "outputs": [],
   "source": [
    "import pandas as pd\n",
    "from sklearn.model_selection import GridSearchCV,train_test_split\n",
    "from sklearn.metrics import precision_score,accuracy_score,confusion_matrix\n",
    "from sklearn.preprocessing import StandardScaler\n",
    "import numpy as np\n",
    "from sklearn.ensemble import VotingClassifier,GradientBoostingClassifier\n",
    "from xgboost import XGBClassifier\n",
    "from sklearn import metrics,svm\n",
    "import matplotlib.pyplot as plt\n",
    "import seaborn as sns\n",
    "from sklearn.decomposition import PCA\n",
    "from sklearn.neural_network import MLPClassifier"
   ]
  },
  {
   "cell_type": "code",
   "execution_count": 3,
   "id": "f2b5da68-82d6-46ae-a684-2011c89dfa8b",
   "metadata": {},
   "outputs": [],
   "source": [
    "def process_train(file):\n",
    "    df = pd.read_csv(file)\n",
    "    categorical = ['Pclass', 'Embarked']\n",
    "\n",
    "    cols = [\"PassengerId\",\"Survived\",\"Pclass\", \"Sex\", \"Age\", \"SibSp\", \"Parch\", \"Fare\", \"Embarked\"]\n",
    "    df = df[cols]\n",
    "\n",
    "    df['Sex'].replace({'male': 1, 'female': 0}, inplace=True)\n",
    "    df['Embarked'].fillna('C', inplace=True)\n",
    "    df['Age'].fillna(df['Age'].mean(), inplace = True)\n",
    "\n",
    "    ### CREATE ONE HOT ENCODINGS\n",
    "\n",
    "    for var in categorical:\n",
    "        df = pd.concat([df, pd.get_dummies(df[var], prefix=var)], axis=1)\n",
    "        del df[var]\n",
    "\n",
    "    ### STANDARDIZE DATA\n",
    "\n",
    "    # a = df[\"PassengerId\"]\n",
    "    # df = (df - df.min()) / (df.max() - df.min())\n",
    "    # df[\"PassengerId\"] = a\n",
    "\n",
    "    return df\n",
    "\n",
    "\n",
    "\n",
    "def process_test(file):\n",
    "    df = pd.read_csv(file)\n",
    "    categorical = ['Pclass', 'Embarked']\n",
    "\n",
    "    cols = [\"PassengerId\",\"Pclass\", \"Sex\", \"Age\", \"SibSp\", \"Parch\", \"Fare\", \"Embarked\"]\n",
    "    df = df[cols]\n",
    "\n",
    "    df['Sex'].replace({'male': 1, 'female': 0}, inplace=True)\n",
    "    df['Embarked'].fillna('C', inplace=True)\n",
    "    df['Age'].fillna(df['Age'].median(), inplace = True)\n",
    "    df['Fare'].fillna(df['Fare'].median(), inplace = True)\n",
    "\n",
    "    ### CREATE ONE HOT ENCODINGS\n",
    "\n",
    "    for var in categorical:\n",
    "        df = pd.concat([df, pd.get_dummies(df[var], prefix=var)], axis=1)\n",
    "        del df[var]\n",
    "\n",
    "    ### STANDARDIZE DATA\n",
    "\n",
    "    # a = df[\"PassengerId\"]\n",
    "    # df = (df - df.min()) / (df.max() - df.min())\n",
    "    # df[\"PassengerId\"] = a\n",
    "\n",
    "    return df"
   ]
  },
  {
   "cell_type": "code",
   "execution_count": 4,
   "id": "c014e291-71eb-43a2-a84c-b4340596c871",
   "metadata": {},
   "outputs": [],
   "source": [
    "df = process_train(\"Downloads/train.csv\")"
   ]
  },
  {
   "cell_type": "code",
   "execution_count": 5,
   "id": "c3ac917b-927c-4b30-aea2-c2f7710f61a0",
   "metadata": {},
   "outputs": [],
   "source": [
    "X = df.drop(\"Survived\", axis = 1)"
   ]
  },
  {
   "cell_type": "code",
   "execution_count": 6,
   "id": "5967ab59-c8d5-464f-9c2d-70d7624556d9",
   "metadata": {},
   "outputs": [],
   "source": [
    "df['Survived'] = df['Survived'].astype('category')\n",
    "y = df[\"Survived\"]"
   ]
  },
  {
   "cell_type": "code",
   "execution_count": 7,
   "id": "b052419a-918e-4af0-9efb-def2af450fe5",
   "metadata": {},
   "outputs": [],
   "source": [
    "x_train, x_test, y_train, y_test = train_test_split(X, y,\n",
    "                                                        test_size=0.33,\n",
    "                                                        random_state=0,\n",
    "                                                        stratify=y)"
   ]
  },
  {
   "cell_type": "code",
   "execution_count": 8,
   "id": "ef5df8f3-c6e7-4b3b-9607-8e8e4765ad76",
   "metadata": {},
   "outputs": [],
   "source": [
    "pca = PCA(n_components='mle', svd_solver='auto')\n",
    "x_pca = pca.fit_transform(x_train)"
   ]
  },
  {
   "cell_type": "code",
   "execution_count": 9,
   "id": "ff2354c6-56ab-4308-98be-c1e972ddce9f",
   "metadata": {},
   "outputs": [],
   "source": [
    "# pca.get_feature_names_out(input_features=cols)"
   ]
  },
  {
   "cell_type": "code",
   "execution_count": 10,
   "id": "114acb80-fadd-49f4-ac95-44d21e9ac572",
   "metadata": {},
   "outputs": [],
   "source": [
    "# Prepare data\n",
    "scaler = StandardScaler()\n",
    "scaled_data = scaler.fit_transform(x_pca,y_train)"
   ]
  },
  {
   "cell_type": "code",
   "execution_count": 11,
   "id": "eb9a6655-eba6-4775-825e-171accfa60e1",
   "metadata": {},
   "outputs": [],
   "source": [
    "# x_train, x_test, y_train, y_test = cross_validation.train_test_split(X,y,train_size=.8, stratify=y)\n",
    "\n",
    "# y_test"
   ]
  },
  {
   "cell_type": "code",
   "execution_count": 12,
   "id": "176101cf-f181-471a-befa-f6a4abf8cf0b",
   "metadata": {},
   "outputs": [],
   "source": [
    "models = [\n",
    "    (XGBClassifier(), {\n",
    "        \"max_depth\": [3, 6,10],\n",
    "        \"learning_rate\": [0.01,0.1, 0.001],\n",
    "        \"n_estimators\": [100, 300, 500],\n",
    "        \"colsample_bytree\": [0.3, 0.5, 0.7]\n",
    "\n",
    "    }),\n",
    "        (svm.NuSVC(gamma=\"auto\",probability = True), {\n",
    "        \"nu\": [0.25, 0.5, 0.75],\n",
    "        \"kernel\": [\"linear\", \"rbf\", \"poly\"]\n",
    "        }),\n",
    "    \n",
    "    (MLPClassifier(max_iter=10000,random_state=1),{\n",
    "        \"alpha\" :[1e-5,1e-3],\n",
    "        \"hidden_layer_sizes\" : [5,50,100],\n",
    "        \"solver\" : ['lbfgs',\"adam\",\"sgd\"],\n",
    "        \"learning_rate\" : [\"invscaling\",\"constant\"],\n",
    "        \"learning_rate_init\" : [0.001,0.01,0.1]\n",
    "        }),\n",
    "\n",
    "                  \n",
    "     (GradientBoostingClassifier(), {\n",
    "        \"max_depth\": [3,6,10],\n",
    "        \"learning_rate\":[0.01, 0.1, 0.001],\n",
    "        \"n_estimators\": [100, 300, 500]\n",
    "        # \"loss\": [\"squared_error\", \"absolute_error\", \"huber\"]\n",
    "    })\n",
    "]\n",
    "\n",
    "vr_estimators = []\n",
    "for model, parameters in models:\n",
    "    grid_search = GridSearchCV(estimator=model, cv=5, param_grid=parameters, scoring = \"roc_auc\")\n",
    "    grid_search.fit(scaled_data, y_train)\n",
    "    vr_estimators.append((model.__class__.__name__, grid_search.best_estimator_))\n",
    "\n",
    "\n",
    "# Create the VotingRegressor using the best estimators\n",
    "vr = VotingClassifier(vr_estimators, voting = \"soft\")\n",
    "vote_reg = vr.fit(scaled_data, y_train)"
   ]
  },
  {
   "cell_type": "code",
   "execution_count": 13,
   "id": "4cc24ca5-38ca-4111-989d-16feeda9fafc",
   "metadata": {},
   "outputs": [],
   "source": [
    "preds = vote_reg.predict(scaled_data)"
   ]
  },
  {
   "cell_type": "code",
   "execution_count": 14,
   "id": "41988d22-c55d-4d0b-82e5-14c5ee8b2a01",
   "metadata": {},
   "outputs": [],
   "source": [
    "cm = confusion_matrix(y_train, preds)\n",
    "\n",
    "# # Visualize confusion matrix\n",
    "# plt.figure(figsize=(8, 6))\n",
    "# sns.set(font_scale=1.2)  # Adjust font size\n",
    "# sns.heatmap(cm, annot=True, fmt='d', cmap='Blues', cbar=False,\n",
    "#             xticklabels=['Predicted Negative', 'Predicted Positive'],\n",
    "#             yticklabels=['True Negative', 'True Positive'])\n",
    "# plt.xlabel('Predicted Label')\n",
    "# plt.ylabel('True Label')\n",
    "# plt.title('Confusion Matrix')\n",
    "# plt.show()"
   ]
  },
  {
   "cell_type": "code",
   "execution_count": 15,
   "id": "6e1f7db8-9bd8-44ac-a133-0218bc497ba6",
   "metadata": {},
   "outputs": [
    {
     "data": {
      "text/plain": [
       "array([[348,  19],\n",
       "       [ 68, 161]])"
      ]
     },
     "execution_count": 15,
     "metadata": {},
     "output_type": "execute_result"
    }
   ],
   "source": [
    "cm"
   ]
  },
  {
   "cell_type": "code",
   "execution_count": 16,
   "id": "231370b9-e523-46be-b1e7-9efca3dac3eb",
   "metadata": {},
   "outputs": [
    {
     "data": {
      "text/plain": [
       "0.8540268456375839"
      ]
     },
     "execution_count": 16,
     "metadata": {},
     "output_type": "execute_result"
    }
   ],
   "source": [
    "accuracy_train = accuracy_score(y_train,preds)\n",
    "accuracy_train"
   ]
  },
  {
   "cell_type": "code",
   "execution_count": 17,
   "id": "eb5d4c19-e346-4ab5-b56f-2f8be7ed338d",
   "metadata": {},
   "outputs": [],
   "source": [
    "x_test = pca.transform(x_test)"
   ]
  },
  {
   "cell_type": "code",
   "execution_count": 18,
   "id": "69033252-8098-463f-b87c-47e2b82f4504",
   "metadata": {},
   "outputs": [],
   "source": [
    "x_test = scaler.transform(x_test)"
   ]
  },
  {
   "cell_type": "code",
   "execution_count": 19,
   "id": "a33614d1-84eb-4411-aeef-7d36107a3f9d",
   "metadata": {},
   "outputs": [],
   "source": [
    "pred_val = vote_reg.predict(x_test)"
   ]
  },
  {
   "cell_type": "code",
   "execution_count": 20,
   "id": "3f49f79a-2858-4bd5-b1f3-4a25525de044",
   "metadata": {},
   "outputs": [],
   "source": [
    "accuracy = accuracy_score(y_test,pred_val)"
   ]
  },
  {
   "cell_type": "code",
   "execution_count": 21,
   "id": "b0b8f428-cc0a-4c4f-8a87-2b3b3808b7ad",
   "metadata": {},
   "outputs": [
    {
     "data": {
      "text/plain": [
       "0.8305084745762712"
      ]
     },
     "execution_count": 21,
     "metadata": {},
     "output_type": "execute_result"
    }
   ],
   "source": [
    "accuracy"
   ]
  },
  {
   "cell_type": "code",
   "execution_count": 22,
   "id": "ad592705-b5b5-4ae0-8c67-104b627dc26e",
   "metadata": {},
   "outputs": [],
   "source": [
    "df_val = process_test(\"Downloads/test.csv\")"
   ]
  },
  {
   "cell_type": "code",
   "execution_count": 23,
   "id": "62ca2d35-d7c9-4a2a-950e-bbd3aec62f0f",
   "metadata": {},
   "outputs": [],
   "source": [
    "x_val= pca.transform(df_val)"
   ]
  },
  {
   "cell_type": "code",
   "execution_count": 24,
   "id": "fb94bc6a-69be-476a-a356-a98000870584",
   "metadata": {},
   "outputs": [],
   "source": [
    "x_val = scaler.transform(x_val)"
   ]
  },
  {
   "cell_type": "code",
   "execution_count": 25,
   "id": "68d8f71e-9833-4395-a07e-8defce29b0d6",
   "metadata": {},
   "outputs": [],
   "source": [
    "pred_valid = vote_reg.predict(x_val)"
   ]
  },
  {
   "cell_type": "code",
   "execution_count": 26,
   "id": "cc6d187e-ea1f-4ab1-b15c-916421e6eb10",
   "metadata": {},
   "outputs": [],
   "source": [
    "# Assuming pred_valid is a numpy array and x_val_index is a pandas Index object\n",
    "# combined_test = pd.DataFrame({'PassengerId': df_val[\"PassengerId\"], 'Survived': pred_valid}, index=df_val.index)\n"
   ]
  },
  {
   "cell_type": "code",
   "execution_count": 27,
   "id": "a6c87ff3-bd37-45d8-bfd2-09a402d1ca15",
   "metadata": {},
   "outputs": [],
   "source": [
    "# Create DataFrame without specifying index\n",
    "combined_test = pd.DataFrame({'PassengerId': df_val[\"PassengerId\"].values, 'Survived': pred_valid})\n"
   ]
  },
  {
   "cell_type": "code",
   "execution_count": 28,
   "id": "17f3f4f4-e17b-45f7-842d-dd95747cbea5",
   "metadata": {},
   "outputs": [
    {
     "data": {
      "text/html": [
       "<div>\n",
       "<style scoped>\n",
       "    .dataframe tbody tr th:only-of-type {\n",
       "        vertical-align: middle;\n",
       "    }\n",
       "\n",
       "    .dataframe tbody tr th {\n",
       "        vertical-align: top;\n",
       "    }\n",
       "\n",
       "    .dataframe thead th {\n",
       "        text-align: right;\n",
       "    }\n",
       "</style>\n",
       "<table border=\"1\" class=\"dataframe\">\n",
       "  <thead>\n",
       "    <tr style=\"text-align: right;\">\n",
       "      <th></th>\n",
       "      <th>PassengerId</th>\n",
       "      <th>Survived</th>\n",
       "    </tr>\n",
       "  </thead>\n",
       "  <tbody>\n",
       "    <tr>\n",
       "      <th>0</th>\n",
       "      <td>892</td>\n",
       "      <td>0</td>\n",
       "    </tr>\n",
       "    <tr>\n",
       "      <th>1</th>\n",
       "      <td>893</td>\n",
       "      <td>0</td>\n",
       "    </tr>\n",
       "    <tr>\n",
       "      <th>2</th>\n",
       "      <td>894</td>\n",
       "      <td>0</td>\n",
       "    </tr>\n",
       "    <tr>\n",
       "      <th>3</th>\n",
       "      <td>895</td>\n",
       "      <td>0</td>\n",
       "    </tr>\n",
       "    <tr>\n",
       "      <th>4</th>\n",
       "      <td>896</td>\n",
       "      <td>0</td>\n",
       "    </tr>\n",
       "    <tr>\n",
       "      <th>...</th>\n",
       "      <td>...</td>\n",
       "      <td>...</td>\n",
       "    </tr>\n",
       "    <tr>\n",
       "      <th>413</th>\n",
       "      <td>1305</td>\n",
       "      <td>0</td>\n",
       "    </tr>\n",
       "    <tr>\n",
       "      <th>414</th>\n",
       "      <td>1306</td>\n",
       "      <td>1</td>\n",
       "    </tr>\n",
       "    <tr>\n",
       "      <th>415</th>\n",
       "      <td>1307</td>\n",
       "      <td>0</td>\n",
       "    </tr>\n",
       "    <tr>\n",
       "      <th>416</th>\n",
       "      <td>1308</td>\n",
       "      <td>0</td>\n",
       "    </tr>\n",
       "    <tr>\n",
       "      <th>417</th>\n",
       "      <td>1309</td>\n",
       "      <td>0</td>\n",
       "    </tr>\n",
       "  </tbody>\n",
       "</table>\n",
       "<p>418 rows × 2 columns</p>\n",
       "</div>"
      ],
      "text/plain": [
       "     PassengerId  Survived\n",
       "0            892         0\n",
       "1            893         0\n",
       "2            894         0\n",
       "3            895         0\n",
       "4            896         0\n",
       "..           ...       ...\n",
       "413         1305         0\n",
       "414         1306         1\n",
       "415         1307         0\n",
       "416         1308         0\n",
       "417         1309         0\n",
       "\n",
       "[418 rows x 2 columns]"
      ]
     },
     "execution_count": 28,
     "metadata": {},
     "output_type": "execute_result"
    }
   ],
   "source": [
    "combined_test"
   ]
  },
  {
   "cell_type": "code",
   "execution_count": 29,
   "id": "8772f0aa-b608-4cbf-90fb-8552e2a9073d",
   "metadata": {},
   "outputs": [],
   "source": [
    "combined_test.to_csv(\"submission.csv\", index = False)"
   ]
  },
  {
   "cell_type": "code",
   "execution_count": null,
   "id": "9620da9b-fd25-4394-8a90-ffefe4b1db37",
   "metadata": {},
   "outputs": [],
   "source": []
  },
  {
   "cell_type": "code",
   "execution_count": null,
   "id": "df7c12f5-28c5-4d43-99f4-cb2cc460ce32",
   "metadata": {},
   "outputs": [],
   "source": []
  }
 ],
 "metadata": {
  "kernelspec": {
   "display_name": "Python 3 (ipykernel)",
   "language": "python",
   "name": "python3"
  },
  "language_info": {
   "codemirror_mode": {
    "name": "ipython",
    "version": 3
   },
   "file_extension": ".py",
   "mimetype": "text/x-python",
   "name": "python",
   "nbconvert_exporter": "python",
   "pygments_lexer": "ipython3",
   "version": "3.11.7"
  }
 },
 "nbformat": 4,
 "nbformat_minor": 5
}
